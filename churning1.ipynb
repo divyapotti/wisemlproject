{
 "cells": [
  {
   "cell_type": "code",
   "execution_count": 1,
   "metadata": {},
   "outputs": [],
   "source": [
    "import pandas as pd\n",
    "import numpy as np\n",
    "import matplotlib.pyplot as plt"
   ]
  },
  {
   "cell_type": "code",
   "execution_count": 2,
   "metadata": {},
   "outputs": [
    {
     "data": {
      "text/html": [
       "<div>\n",
       "<style scoped>\n",
       "    .dataframe tbody tr th:only-of-type {\n",
       "        vertical-align: middle;\n",
       "    }\n",
       "\n",
       "    .dataframe tbody tr th {\n",
       "        vertical-align: top;\n",
       "    }\n",
       "\n",
       "    .dataframe thead th {\n",
       "        text-align: right;\n",
       "    }\n",
       "</style>\n",
       "<table border=\"1\" class=\"dataframe\">\n",
       "  <thead>\n",
       "    <tr style=\"text-align: right;\">\n",
       "      <th></th>\n",
       "      <th>customer_id</th>\n",
       "      <th>Name</th>\n",
       "      <th>age</th>\n",
       "      <th>gender</th>\n",
       "      <th>security_no</th>\n",
       "      <th>region_category</th>\n",
       "      <th>membership_category</th>\n",
       "      <th>joining_date</th>\n",
       "      <th>joined_through_referral</th>\n",
       "      <th>referral_id</th>\n",
       "      <th>...</th>\n",
       "      <th>avg_time_spent</th>\n",
       "      <th>avg_transaction_value</th>\n",
       "      <th>avg_frequency_login_days</th>\n",
       "      <th>points_in_wallet</th>\n",
       "      <th>used_special_discount</th>\n",
       "      <th>offer_application_preference</th>\n",
       "      <th>past_complaint</th>\n",
       "      <th>complaint_status</th>\n",
       "      <th>feedback</th>\n",
       "      <th>churn_risk_score</th>\n",
       "    </tr>\n",
       "  </thead>\n",
       "  <tbody>\n",
       "    <tr>\n",
       "      <th>0</th>\n",
       "      <td>fffe4300490044003600300030003800</td>\n",
       "      <td>Pattie Morrisey</td>\n",
       "      <td>18</td>\n",
       "      <td>F</td>\n",
       "      <td>XW0DQ7H</td>\n",
       "      <td>Village</td>\n",
       "      <td>Platinum Membership</td>\n",
       "      <td>2017-08-17</td>\n",
       "      <td>No</td>\n",
       "      <td>xxxxxxxx</td>\n",
       "      <td>...</td>\n",
       "      <td>300.630000</td>\n",
       "      <td>53005.25</td>\n",
       "      <td>17.0</td>\n",
       "      <td>781.750000</td>\n",
       "      <td>Yes</td>\n",
       "      <td>Yes</td>\n",
       "      <td>No</td>\n",
       "      <td>Not Applicable</td>\n",
       "      <td>Products always in Stock</td>\n",
       "      <td>2</td>\n",
       "    </tr>\n",
       "    <tr>\n",
       "      <th>1</th>\n",
       "      <td>fffe43004900440032003100300035003700</td>\n",
       "      <td>Traci Peery</td>\n",
       "      <td>32</td>\n",
       "      <td>F</td>\n",
       "      <td>5K0N3X1</td>\n",
       "      <td>City</td>\n",
       "      <td>Premium Membership</td>\n",
       "      <td>2017-08-28</td>\n",
       "      <td>?</td>\n",
       "      <td>CID21329</td>\n",
       "      <td>...</td>\n",
       "      <td>306.340000</td>\n",
       "      <td>12838.38</td>\n",
       "      <td>10.0</td>\n",
       "      <td>NaN</td>\n",
       "      <td>Yes</td>\n",
       "      <td>No</td>\n",
       "      <td>Yes</td>\n",
       "      <td>Solved</td>\n",
       "      <td>Quality Customer Care</td>\n",
       "      <td>1</td>\n",
       "    </tr>\n",
       "    <tr>\n",
       "      <th>2</th>\n",
       "      <td>fffe4300490044003100390032003600</td>\n",
       "      <td>Merideth Mcmeen</td>\n",
       "      <td>44</td>\n",
       "      <td>F</td>\n",
       "      <td>1F2TCL3</td>\n",
       "      <td>Town</td>\n",
       "      <td>No Membership</td>\n",
       "      <td>2016-11-11</td>\n",
       "      <td>Yes</td>\n",
       "      <td>CID12313</td>\n",
       "      <td>...</td>\n",
       "      <td>516.160000</td>\n",
       "      <td>21027.00</td>\n",
       "      <td>22.0</td>\n",
       "      <td>500.690000</td>\n",
       "      <td>No</td>\n",
       "      <td>Yes</td>\n",
       "      <td>Yes</td>\n",
       "      <td>Solved in Follow-up</td>\n",
       "      <td>Poor Website</td>\n",
       "      <td>5</td>\n",
       "    </tr>\n",
       "    <tr>\n",
       "      <th>3</th>\n",
       "      <td>fffe43004900440036003000330031003600</td>\n",
       "      <td>Eufemia Cardwell</td>\n",
       "      <td>37</td>\n",
       "      <td>M</td>\n",
       "      <td>VJGJ33N</td>\n",
       "      <td>City</td>\n",
       "      <td>No Membership</td>\n",
       "      <td>2016-10-29</td>\n",
       "      <td>Yes</td>\n",
       "      <td>CID3793</td>\n",
       "      <td>...</td>\n",
       "      <td>53.270000</td>\n",
       "      <td>25239.56</td>\n",
       "      <td>6.0</td>\n",
       "      <td>567.660000</td>\n",
       "      <td>No</td>\n",
       "      <td>Yes</td>\n",
       "      <td>Yes</td>\n",
       "      <td>Unsolved</td>\n",
       "      <td>Poor Website</td>\n",
       "      <td>5</td>\n",
       "    </tr>\n",
       "    <tr>\n",
       "      <th>4</th>\n",
       "      <td>fffe43004900440031003900350030003600</td>\n",
       "      <td>Meghan Kosak</td>\n",
       "      <td>31</td>\n",
       "      <td>F</td>\n",
       "      <td>SVZXCWB</td>\n",
       "      <td>City</td>\n",
       "      <td>No Membership</td>\n",
       "      <td>2017-09-12</td>\n",
       "      <td>No</td>\n",
       "      <td>xxxxxxxx</td>\n",
       "      <td>...</td>\n",
       "      <td>113.130000</td>\n",
       "      <td>24483.66</td>\n",
       "      <td>16.0</td>\n",
       "      <td>663.060000</td>\n",
       "      <td>No</td>\n",
       "      <td>Yes</td>\n",
       "      <td>Yes</td>\n",
       "      <td>Solved</td>\n",
       "      <td>Poor Website</td>\n",
       "      <td>5</td>\n",
       "    </tr>\n",
       "    <tr>\n",
       "      <th>...</th>\n",
       "      <td>...</td>\n",
       "      <td>...</td>\n",
       "      <td>...</td>\n",
       "      <td>...</td>\n",
       "      <td>...</td>\n",
       "      <td>...</td>\n",
       "      <td>...</td>\n",
       "      <td>...</td>\n",
       "      <td>...</td>\n",
       "      <td>...</td>\n",
       "      <td>...</td>\n",
       "      <td>...</td>\n",
       "      <td>...</td>\n",
       "      <td>...</td>\n",
       "      <td>...</td>\n",
       "      <td>...</td>\n",
       "      <td>...</td>\n",
       "      <td>...</td>\n",
       "      <td>...</td>\n",
       "      <td>...</td>\n",
       "      <td>...</td>\n",
       "    </tr>\n",
       "    <tr>\n",
       "      <th>36987</th>\n",
       "      <td>fffe43004900440035003500390036003100</td>\n",
       "      <td>Cuc Tarr</td>\n",
       "      <td>46</td>\n",
       "      <td>F</td>\n",
       "      <td>6F51HFO</td>\n",
       "      <td>NaN</td>\n",
       "      <td>Basic Membership</td>\n",
       "      <td>2017-09-21</td>\n",
       "      <td>No</td>\n",
       "      <td>xxxxxxxx</td>\n",
       "      <td>...</td>\n",
       "      <td>-650.682759</td>\n",
       "      <td>27277.68</td>\n",
       "      <td>6.0</td>\n",
       "      <td>639.510000</td>\n",
       "      <td>No</td>\n",
       "      <td>Yes</td>\n",
       "      <td>Yes</td>\n",
       "      <td>No Information Available</td>\n",
       "      <td>No reason specified</td>\n",
       "      <td>4</td>\n",
       "    </tr>\n",
       "    <tr>\n",
       "      <th>36988</th>\n",
       "      <td>fffe43004900440033003500380036003600</td>\n",
       "      <td>Jenni Stronach</td>\n",
       "      <td>29</td>\n",
       "      <td>F</td>\n",
       "      <td>21KSM8Y</td>\n",
       "      <td>Town</td>\n",
       "      <td>Basic Membership</td>\n",
       "      <td>2016-06-27</td>\n",
       "      <td>No</td>\n",
       "      <td>xxxxxxxx</td>\n",
       "      <td>...</td>\n",
       "      <td>-638.123421</td>\n",
       "      <td>11069.71</td>\n",
       "      <td>28.0</td>\n",
       "      <td>527.990000</td>\n",
       "      <td>Yes</td>\n",
       "      <td>No</td>\n",
       "      <td>No</td>\n",
       "      <td>Not Applicable</td>\n",
       "      <td>Poor Customer Service</td>\n",
       "      <td>5</td>\n",
       "    </tr>\n",
       "    <tr>\n",
       "      <th>36989</th>\n",
       "      <td>fffe4300490044003500330034003100</td>\n",
       "      <td>Luciana Kinch</td>\n",
       "      <td>23</td>\n",
       "      <td>F</td>\n",
       "      <td>XK1IM9H</td>\n",
       "      <td>NaN</td>\n",
       "      <td>Basic Membership</td>\n",
       "      <td>2016-09-11</td>\n",
       "      <td>Yes</td>\n",
       "      <td>CID3838</td>\n",
       "      <td>...</td>\n",
       "      <td>154.940000</td>\n",
       "      <td>38127.56</td>\n",
       "      <td>Error</td>\n",
       "      <td>680.470000</td>\n",
       "      <td>No</td>\n",
       "      <td>Yes</td>\n",
       "      <td>Yes</td>\n",
       "      <td>Unsolved</td>\n",
       "      <td>Poor Website</td>\n",
       "      <td>4</td>\n",
       "    </tr>\n",
       "    <tr>\n",
       "      <th>36990</th>\n",
       "      <td>fffe43004900440031003200390039003000</td>\n",
       "      <td>Tawana Ardoin</td>\n",
       "      <td>53</td>\n",
       "      <td>M</td>\n",
       "      <td>K6VTP1Z</td>\n",
       "      <td>Village</td>\n",
       "      <td>Platinum Membership</td>\n",
       "      <td>2017-06-15</td>\n",
       "      <td>No</td>\n",
       "      <td>xxxxxxxx</td>\n",
       "      <td>...</td>\n",
       "      <td>482.610000</td>\n",
       "      <td>2378.86</td>\n",
       "      <td>20.0</td>\n",
       "      <td>197.264414</td>\n",
       "      <td>Yes</td>\n",
       "      <td>Yes</td>\n",
       "      <td>No</td>\n",
       "      <td>Not Applicable</td>\n",
       "      <td>No reason specified</td>\n",
       "      <td>3</td>\n",
       "    </tr>\n",
       "    <tr>\n",
       "      <th>36991</th>\n",
       "      <td>fffe43004900440033003600340034003200</td>\n",
       "      <td>Verlene Beaulieu</td>\n",
       "      <td>35</td>\n",
       "      <td>M</td>\n",
       "      <td>LBX0GLR</td>\n",
       "      <td>Town</td>\n",
       "      <td>Silver Membership</td>\n",
       "      <td>2015-10-23</td>\n",
       "      <td>No</td>\n",
       "      <td>xxxxxxxx</td>\n",
       "      <td>...</td>\n",
       "      <td>79.180000</td>\n",
       "      <td>2189.68</td>\n",
       "      <td>Error</td>\n",
       "      <td>719.970000</td>\n",
       "      <td>Yes</td>\n",
       "      <td>No</td>\n",
       "      <td>No</td>\n",
       "      <td>Not Applicable</td>\n",
       "      <td>Quality Customer Care</td>\n",
       "      <td>2</td>\n",
       "    </tr>\n",
       "  </tbody>\n",
       "</table>\n",
       "<p>36992 rows × 25 columns</p>\n",
       "</div>"
      ],
      "text/plain": [
       "                                customer_id              Name  age gender  \\\n",
       "0          fffe4300490044003600300030003800   Pattie Morrisey   18      F   \n",
       "1      fffe43004900440032003100300035003700       Traci Peery   32      F   \n",
       "2          fffe4300490044003100390032003600   Merideth Mcmeen   44      F   \n",
       "3      fffe43004900440036003000330031003600  Eufemia Cardwell   37      M   \n",
       "4      fffe43004900440031003900350030003600      Meghan Kosak   31      F   \n",
       "...                                     ...               ...  ...    ...   \n",
       "36987  fffe43004900440035003500390036003100          Cuc Tarr   46      F   \n",
       "36988  fffe43004900440033003500380036003600    Jenni Stronach   29      F   \n",
       "36989      fffe4300490044003500330034003100     Luciana Kinch   23      F   \n",
       "36990  fffe43004900440031003200390039003000     Tawana Ardoin   53      M   \n",
       "36991  fffe43004900440033003600340034003200  Verlene Beaulieu   35      M   \n",
       "\n",
       "      security_no region_category  membership_category joining_date  \\\n",
       "0         XW0DQ7H         Village  Platinum Membership   2017-08-17   \n",
       "1         5K0N3X1            City   Premium Membership   2017-08-28   \n",
       "2         1F2TCL3            Town        No Membership   2016-11-11   \n",
       "3         VJGJ33N            City        No Membership   2016-10-29   \n",
       "4         SVZXCWB            City        No Membership   2017-09-12   \n",
       "...           ...             ...                  ...          ...   \n",
       "36987     6F51HFO             NaN     Basic Membership   2017-09-21   \n",
       "36988     21KSM8Y            Town     Basic Membership   2016-06-27   \n",
       "36989     XK1IM9H             NaN     Basic Membership   2016-09-11   \n",
       "36990     K6VTP1Z         Village  Platinum Membership   2017-06-15   \n",
       "36991     LBX0GLR            Town    Silver Membership   2015-10-23   \n",
       "\n",
       "      joined_through_referral referral_id  ... avg_time_spent  \\\n",
       "0                          No    xxxxxxxx  ...     300.630000   \n",
       "1                           ?    CID21329  ...     306.340000   \n",
       "2                         Yes    CID12313  ...     516.160000   \n",
       "3                         Yes     CID3793  ...      53.270000   \n",
       "4                          No    xxxxxxxx  ...     113.130000   \n",
       "...                       ...         ...  ...            ...   \n",
       "36987                      No    xxxxxxxx  ...    -650.682759   \n",
       "36988                      No    xxxxxxxx  ...    -638.123421   \n",
       "36989                     Yes     CID3838  ...     154.940000   \n",
       "36990                      No    xxxxxxxx  ...     482.610000   \n",
       "36991                      No    xxxxxxxx  ...      79.180000   \n",
       "\n",
       "      avg_transaction_value avg_frequency_login_days points_in_wallet  \\\n",
       "0                  53005.25                     17.0       781.750000   \n",
       "1                  12838.38                     10.0              NaN   \n",
       "2                  21027.00                     22.0       500.690000   \n",
       "3                  25239.56                      6.0       567.660000   \n",
       "4                  24483.66                     16.0       663.060000   \n",
       "...                     ...                      ...              ...   \n",
       "36987              27277.68                      6.0       639.510000   \n",
       "36988              11069.71                     28.0       527.990000   \n",
       "36989              38127.56                    Error       680.470000   \n",
       "36990               2378.86                     20.0       197.264414   \n",
       "36991               2189.68                    Error       719.970000   \n",
       "\n",
       "       used_special_discount  offer_application_preference  past_complaint  \\\n",
       "0                        Yes                           Yes              No   \n",
       "1                        Yes                            No             Yes   \n",
       "2                         No                           Yes             Yes   \n",
       "3                         No                           Yes             Yes   \n",
       "4                         No                           Yes             Yes   \n",
       "...                      ...                           ...             ...   \n",
       "36987                     No                           Yes             Yes   \n",
       "36988                    Yes                            No              No   \n",
       "36989                     No                           Yes             Yes   \n",
       "36990                    Yes                           Yes              No   \n",
       "36991                    Yes                            No              No   \n",
       "\n",
       "               complaint_status                  feedback churn_risk_score  \n",
       "0                Not Applicable  Products always in Stock                2  \n",
       "1                        Solved     Quality Customer Care                1  \n",
       "2           Solved in Follow-up              Poor Website                5  \n",
       "3                      Unsolved              Poor Website                5  \n",
       "4                        Solved              Poor Website                5  \n",
       "...                         ...                       ...              ...  \n",
       "36987  No Information Available       No reason specified                4  \n",
       "36988            Not Applicable     Poor Customer Service                5  \n",
       "36989                  Unsolved              Poor Website                4  \n",
       "36990            Not Applicable       No reason specified                3  \n",
       "36991            Not Applicable     Quality Customer Care                2  \n",
       "\n",
       "[36992 rows x 25 columns]"
      ]
     },
     "execution_count": 2,
     "metadata": {},
     "output_type": "execute_result"
    }
   ],
   "source": [
    "trainset=pd.read_csv('train.csv')\n",
    "trainset"
   ]
  },
  {
   "cell_type": "code",
   "execution_count": 3,
   "metadata": {},
   "outputs": [],
   "source": [
    "trainset.drop('referral_id',axis=1,inplace=True)"
   ]
  },
  {
   "cell_type": "code",
   "execution_count": 4,
   "metadata": {},
   "outputs": [],
   "source": [
    "trainset.drop('security_no',axis=1,inplace=True)"
   ]
  },
  {
   "cell_type": "code",
   "execution_count": 5,
   "metadata": {},
   "outputs": [],
   "source": [
    "trainset.drop('joining_date',axis=1,inplace=True)"
   ]
  },
  {
   "cell_type": "code",
   "execution_count": 6,
   "metadata": {},
   "outputs": [],
   "source": [
    "jf=np.array(trainset['joined_through_referral'])"
   ]
  },
  {
   "cell_type": "code",
   "execution_count": 7,
   "metadata": {},
   "outputs": [],
   "source": [
    "for i in range (len(jf)):\n",
    "    if (jf[i]==\"?\"):\n",
    "        jf[i]=np.nan"
   ]
  },
  {
   "cell_type": "code",
   "execution_count": 8,
   "metadata": {},
   "outputs": [
    {
     "data": {
      "text/plain": [
       "array(['No', nan, 'Yes', ..., 'Yes', 'No', 'No'], dtype=object)"
      ]
     },
     "execution_count": 8,
     "metadata": {},
     "output_type": "execute_result"
    }
   ],
   "source": [
    "jf"
   ]
  },
  {
   "cell_type": "code",
   "execution_count": 9,
   "metadata": {},
   "outputs": [],
   "source": [
    "trainset['joined_through_referral']=jf"
   ]
  },
  {
   "cell_type": "code",
   "execution_count": 10,
   "metadata": {},
   "outputs": [
    {
     "data": {
      "text/plain": [
       "0         No\n",
       "1        NaN\n",
       "2        Yes\n",
       "3        Yes\n",
       "4         No\n",
       "        ... \n",
       "36987     No\n",
       "36988     No\n",
       "36989    Yes\n",
       "36990     No\n",
       "36991     No\n",
       "Name: joined_through_referral, Length: 36992, dtype: object"
      ]
     },
     "execution_count": 10,
     "metadata": {},
     "output_type": "execute_result"
    }
   ],
   "source": [
    "trainset['joined_through_referral']"
   ]
  },
  {
   "cell_type": "code",
   "execution_count": 11,
   "metadata": {},
   "outputs": [
    {
     "data": {
      "text/plain": [
       "0        False\n",
       "1         True\n",
       "2        False\n",
       "3        False\n",
       "4        False\n",
       "         ...  \n",
       "36987    False\n",
       "36988    False\n",
       "36989    False\n",
       "36990    False\n",
       "36991    False\n",
       "Name: joined_through_referral, Length: 36992, dtype: bool"
      ]
     },
     "execution_count": 11,
     "metadata": {},
     "output_type": "execute_result"
    }
   ],
   "source": [
    "trainset['joined_through_referral'].isnull()"
   ]
  },
  {
   "cell_type": "code",
   "execution_count": 12,
   "metadata": {},
   "outputs": [
    {
     "data": {
      "text/plain": [
       "0     No\n",
       "1    NaN\n",
       "2    Yes\n",
       "3    Yes\n",
       "4     No\n",
       "5     No\n",
       "6    Yes\n",
       "7    NaN\n",
       "8     No\n",
       "9     No\n",
       "Name: joined_through_referral, dtype: object"
      ]
     },
     "execution_count": 12,
     "metadata": {},
     "output_type": "execute_result"
    }
   ],
   "source": [
    "trainset['joined_through_referral'].head(10)"
   ]
  },
  {
   "cell_type": "code",
   "execution_count": 13,
   "metadata": {},
   "outputs": [],
   "source": [
    "trainset['joined_through_referral']=trainset['joined_through_referral'].fillna(value=trainset['joined_through_referral'].mode().iloc[0])"
   ]
  },
  {
   "cell_type": "code",
   "execution_count": 14,
   "metadata": {},
   "outputs": [],
   "source": [
    "g=np.array(trainset['gender'])"
   ]
  },
  {
   "cell_type": "code",
   "execution_count": 15,
   "metadata": {},
   "outputs": [],
   "source": [
    "for gen in range(len(g)):\n",
    "    if(g[gen]==\"Unknown\"):\n",
    "        g[gen]=np.nan"
   ]
  },
  {
   "cell_type": "code",
   "execution_count": 16,
   "metadata": {},
   "outputs": [],
   "source": [
    "trainset['gender']=g"
   ]
  },
  {
   "cell_type": "code",
   "execution_count": 17,
   "metadata": {},
   "outputs": [
    {
     "data": {
      "text/plain": [
       "True"
      ]
     },
     "execution_count": 17,
     "metadata": {},
     "output_type": "execute_result"
    }
   ],
   "source": [
    "trainset['gender'].isnull().any()"
   ]
  },
  {
   "cell_type": "code",
   "execution_count": 18,
   "metadata": {},
   "outputs": [],
   "source": [
    "trainset['gender']=trainset['gender'].fillna(value=trainset['gender'].mode().iloc[0])"
   ]
  },
  {
   "cell_type": "code",
   "execution_count": 19,
   "metadata": {},
   "outputs": [
    {
     "data": {
      "text/plain": [
       "0        F\n",
       "1        F\n",
       "2        F\n",
       "3        M\n",
       "4        F\n",
       "        ..\n",
       "36987    F\n",
       "36988    F\n",
       "36989    F\n",
       "36990    M\n",
       "36991    M\n",
       "Name: gender, Length: 36992, dtype: object"
      ]
     },
     "execution_count": 19,
     "metadata": {},
     "output_type": "execute_result"
    }
   ],
   "source": [
    "trainset['gender']"
   ]
  },
  {
   "cell_type": "code",
   "execution_count": 20,
   "metadata": {},
   "outputs": [
    {
     "data": {
      "text/plain": [
       "False"
      ]
     },
     "execution_count": 20,
     "metadata": {},
     "output_type": "execute_result"
    }
   ],
   "source": [
    "trainset['age'].isnull().any()"
   ]
  },
  {
   "cell_type": "code",
   "execution_count": 21,
   "metadata": {},
   "outputs": [],
   "source": [
    "trainset['region_category']=trainset['region_category'].fillna(value=trainset['region_category'].mode().iloc[0])"
   ]
  },
  {
   "cell_type": "code",
   "execution_count": 22,
   "metadata": {},
   "outputs": [
    {
     "data": {
      "text/plain": [
       "False"
      ]
     },
     "execution_count": 22,
     "metadata": {},
     "output_type": "execute_result"
    }
   ],
   "source": [
    "trainset['region_category'].isnull().any()"
   ]
  },
  {
   "cell_type": "code",
   "execution_count": 23,
   "metadata": {},
   "outputs": [
    {
     "data": {
      "text/plain": [
       "array(['Platinum Membership', 'Premium Membership', 'No Membership',\n",
       "       'Gold Membership', 'Silver Membership', 'Basic Membership'],\n",
       "      dtype=object)"
      ]
     },
     "execution_count": 23,
     "metadata": {},
     "output_type": "execute_result"
    }
   ],
   "source": [
    "trainset['membership_category'].unique()"
   ]
  },
  {
   "cell_type": "code",
   "execution_count": 24,
   "metadata": {},
   "outputs": [
    {
     "data": {
      "text/plain": [
       "True"
      ]
     },
     "execution_count": 24,
     "metadata": {},
     "output_type": "execute_result"
    }
   ],
   "source": [
    "trainset['preferred_offer_types'].isnull().any()"
   ]
  },
  {
   "cell_type": "code",
   "execution_count": 25,
   "metadata": {},
   "outputs": [
    {
     "data": {
      "text/plain": [
       "array(['Gift Vouchers/Coupons', 'Credit/Debit Card Offers',\n",
       "       'Without Offers', nan], dtype=object)"
      ]
     },
     "execution_count": 25,
     "metadata": {},
     "output_type": "execute_result"
    }
   ],
   "source": [
    "trainset['preferred_offer_types'].unique()"
   ]
  },
  {
   "cell_type": "code",
   "execution_count": 26,
   "metadata": {},
   "outputs": [],
   "source": [
    "trainset['preferred_offer_types']=trainset['preferred_offer_types'].fillna(value=trainset['preferred_offer_types'].mode().iloc[0])"
   ]
  },
  {
   "cell_type": "code",
   "execution_count": 27,
   "metadata": {},
   "outputs": [
    {
     "data": {
      "text/plain": [
       "False"
      ]
     },
     "execution_count": 27,
     "metadata": {},
     "output_type": "execute_result"
    }
   ],
   "source": [
    "trainset['preferred_offer_types'].isnull().any()"
   ]
  },
  {
   "cell_type": "code",
   "execution_count": 28,
   "metadata": {},
   "outputs": [
    {
     "data": {
      "text/plain": [
       "array(['Gift Vouchers/Coupons', 'Credit/Debit Card Offers',\n",
       "       'Without Offers'], dtype=object)"
      ]
     },
     "execution_count": 28,
     "metadata": {},
     "output_type": "execute_result"
    }
   ],
   "source": [
    "trainset['preferred_offer_types'].unique()"
   ]
  },
  {
   "cell_type": "code",
   "execution_count": 29,
   "metadata": {},
   "outputs": [],
   "source": [
    "mo=np.array(trainset['medium_of_operation'])"
   ]
  },
  {
   "cell_type": "code",
   "execution_count": 30,
   "metadata": {},
   "outputs": [],
   "source": [
    "for m in range(len(mo)):\n",
    "    if(mo[m]==\"?\"):\n",
    "        mo[m]=np.nan"
   ]
  },
  {
   "cell_type": "code",
   "execution_count": 31,
   "metadata": {},
   "outputs": [],
   "source": [
    "trainset['medium_of_operation']=mo"
   ]
  },
  {
   "cell_type": "code",
   "execution_count": 32,
   "metadata": {},
   "outputs": [
    {
     "data": {
      "text/plain": [
       "True"
      ]
     },
     "execution_count": 32,
     "metadata": {},
     "output_type": "execute_result"
    }
   ],
   "source": [
    "trainset['medium_of_operation'].isnull().any()"
   ]
  },
  {
   "cell_type": "code",
   "execution_count": 33,
   "metadata": {},
   "outputs": [
    {
     "data": {
      "text/plain": [
       "array([nan, 'Desktop', 'Smartphone', 'Both'], dtype=object)"
      ]
     },
     "execution_count": 33,
     "metadata": {},
     "output_type": "execute_result"
    }
   ],
   "source": [
    "trainset['medium_of_operation'].unique()"
   ]
  },
  {
   "cell_type": "code",
   "execution_count": 34,
   "metadata": {},
   "outputs": [],
   "source": [
    "trainset['medium_of_operation']=trainset['medium_of_operation'].fillna(value=trainset['medium_of_operation'].mode().iloc[0])"
   ]
  },
  {
   "cell_type": "code",
   "execution_count": 35,
   "metadata": {},
   "outputs": [
    {
     "data": {
      "text/plain": [
       "array(['Desktop', 'Smartphone', 'Both'], dtype=object)"
      ]
     },
     "execution_count": 35,
     "metadata": {},
     "output_type": "execute_result"
    }
   ],
   "source": [
    "trainset['medium_of_operation'].unique()"
   ]
  },
  {
   "cell_type": "code",
   "execution_count": 36,
   "metadata": {},
   "outputs": [
    {
     "data": {
      "text/plain": [
       "array(['Wi-Fi', 'Mobile_Data', 'Fiber_Optic'], dtype=object)"
      ]
     },
     "execution_count": 36,
     "metadata": {},
     "output_type": "execute_result"
    }
   ],
   "source": [
    "trainset['internet_option'].unique()"
   ]
  },
  {
   "cell_type": "code",
   "execution_count": 37,
   "metadata": {},
   "outputs": [],
   "source": [
    "trainset.drop('last_visit_time',axis=1,inplace=True)"
   ]
  },
  {
   "cell_type": "code",
   "execution_count": 38,
   "metadata": {},
   "outputs": [],
   "source": [
    "dl=np.array(trainset['days_since_last_login'])"
   ]
  },
  {
   "cell_type": "code",
   "execution_count": 39,
   "metadata": {},
   "outputs": [],
   "source": [
    "for d in range(len(dl)):\n",
    "    if(dl[d]==-999):\n",
    "        dl[d]=0"
   ]
  },
  {
   "cell_type": "code",
   "execution_count": 40,
   "metadata": {},
   "outputs": [
    {
     "data": {
      "text/plain": [
       "12"
      ]
     },
     "execution_count": 40,
     "metadata": {},
     "output_type": "execute_result"
    }
   ],
   "source": [
    "g=dl.mean()\n",
    "int(g)"
   ]
  },
  {
   "cell_type": "code",
   "execution_count": 41,
   "metadata": {},
   "outputs": [],
   "source": [
    "for d in range(len(dl)):\n",
    "    if(dl[d]==0):\n",
    "        dl[d]=g"
   ]
  },
  {
   "cell_type": "code",
   "execution_count": 42,
   "metadata": {},
   "outputs": [],
   "source": [
    "trainset['days_since_last_login']=dl"
   ]
  },
  {
   "cell_type": "code",
   "execution_count": 43,
   "metadata": {},
   "outputs": [
    {
     "data": {
      "text/plain": [
       "False"
      ]
     },
     "execution_count": 43,
     "metadata": {},
     "output_type": "execute_result"
    }
   ],
   "source": [
    "trainset['days_since_last_login'].isnull().any()"
   ]
  },
  {
   "cell_type": "code",
   "execution_count": 44,
   "metadata": {},
   "outputs": [
    {
     "data": {
      "text/plain": [
       "array([17, 16, 14, 11, 20, 23, 10, 19, 15, 13, 12,  5,  9, 21, 18,  1, 22,\n",
       "        4,  8,  3,  6,  2, 24,  7, 26, 25], dtype=int64)"
      ]
     },
     "execution_count": 44,
     "metadata": {},
     "output_type": "execute_result"
    }
   ],
   "source": [
    "trainset['days_since_last_login'].unique()"
   ]
  },
  {
   "cell_type": "code",
   "execution_count": 45,
   "metadata": {},
   "outputs": [],
   "source": [
    "ats=np.array(trainset['avg_time_spent'])"
   ]
  },
  {
   "cell_type": "code",
   "execution_count": 46,
   "metadata": {},
   "outputs": [],
   "source": [
    "for at in range(len(ats)):\n",
    "    if(ats[at]<0):\n",
    "        ats[at]=0"
   ]
  },
  {
   "cell_type": "code",
   "execution_count": 47,
   "metadata": {},
   "outputs": [
    {
     "data": {
      "text/plain": [
       "279.14744962178764"
      ]
     },
     "execution_count": 47,
     "metadata": {},
     "output_type": "execute_result"
    }
   ],
   "source": [
    "a=ats.mean()\n",
    "a"
   ]
  },
  {
   "cell_type": "code",
   "execution_count": 48,
   "metadata": {},
   "outputs": [],
   "source": [
    "for at in range(len(ats)):\n",
    "    if(ats[at]==0):\n",
    "        ats[at]=a"
   ]
  },
  {
   "cell_type": "code",
   "execution_count": 49,
   "metadata": {},
   "outputs": [],
   "source": [
    "trainset['avg_time_spent']=ats"
   ]
  },
  {
   "cell_type": "code",
   "execution_count": 50,
   "metadata": {},
   "outputs": [
    {
     "data": {
      "text/plain": [
       "False"
      ]
     },
     "execution_count": 50,
     "metadata": {},
     "output_type": "execute_result"
    }
   ],
   "source": [
    "trainset['avg_time_spent'].isnull().any()"
   ]
  },
  {
   "cell_type": "code",
   "execution_count": 51,
   "metadata": {},
   "outputs": [],
   "source": [
    "ag=np.array(trainset['avg_frequency_login_days'])\n",
    "for i1 in range(len(ag)):\n",
    "    if(ag[i1]==\"Error\"):\n",
    "        ag[i1]=\"-1\"\n"
   ]
  },
  {
   "cell_type": "code",
   "execution_count": 52,
   "metadata": {},
   "outputs": [],
   "source": [
    "ag=ag.astype(float)"
   ]
  },
  {
   "cell_type": "code",
   "execution_count": 53,
   "metadata": {},
   "outputs": [],
   "source": [
    "ag[ag<0]=ag.mean()"
   ]
  },
  {
   "cell_type": "code",
   "execution_count": 54,
   "metadata": {},
   "outputs": [],
   "source": [
    "trainset['avg_frequency_login_days']=ag"
   ]
  },
  {
   "cell_type": "code",
   "execution_count": 55,
   "metadata": {},
   "outputs": [],
   "source": [
    "pw=np.array(trainset['points_in_wallet'])\n",
    "pw[pw<0]=np.nan"
   ]
  },
  {
   "cell_type": "code",
   "execution_count": 56,
   "metadata": {},
   "outputs": [],
   "source": [
    "trainset['points_in_wallet']=pw"
   ]
  },
  {
   "cell_type": "code",
   "execution_count": 57,
   "metadata": {},
   "outputs": [
    {
     "data": {
      "text/plain": [
       "True"
      ]
     },
     "execution_count": 57,
     "metadata": {},
     "output_type": "execute_result"
    }
   ],
   "source": [
    "trainset['points_in_wallet'].isnull().any()"
   ]
  },
  {
   "cell_type": "code",
   "execution_count": 58,
   "metadata": {},
   "outputs": [],
   "source": [
    "trainset['points_in_wallet']=trainset['points_in_wallet'].fillna(value=trainset['points_in_wallet'].mean())"
   ]
  },
  {
   "cell_type": "code",
   "execution_count": 59,
   "metadata": {},
   "outputs": [
    {
     "data": {
      "text/plain": [
       "False"
      ]
     },
     "execution_count": 59,
     "metadata": {},
     "output_type": "execute_result"
    }
   ],
   "source": [
    "trainset['points_in_wallet'].isnull().any()"
   ]
  },
  {
   "cell_type": "code",
   "execution_count": 60,
   "metadata": {},
   "outputs": [],
   "source": [
    "cs=np.array(trainset['complaint_status'])\n",
    "cs[cs=='No Information Available']=np.nan"
   ]
  },
  {
   "cell_type": "code",
   "execution_count": 61,
   "metadata": {},
   "outputs": [],
   "source": [
    "trainset['complaint_status']=cs"
   ]
  },
  {
   "cell_type": "code",
   "execution_count": 62,
   "metadata": {},
   "outputs": [
    {
     "data": {
      "text/plain": [
       "True"
      ]
     },
     "execution_count": 62,
     "metadata": {},
     "output_type": "execute_result"
    }
   ],
   "source": [
    "trainset['complaint_status'].isnull().any()"
   ]
  },
  {
   "cell_type": "code",
   "execution_count": 63,
   "metadata": {},
   "outputs": [],
   "source": [
    "trainset['complaint_status']=trainset['complaint_status'].fillna(value=trainset['complaint_status'].mode().iloc[0])"
   ]
  },
  {
   "cell_type": "code",
   "execution_count": 64,
   "metadata": {},
   "outputs": [
    {
     "data": {
      "text/plain": [
       "array(['Not Applicable', 'Solved', 'Solved in Follow-up', 'Unsolved'],\n",
       "      dtype=object)"
      ]
     },
     "execution_count": 64,
     "metadata": {},
     "output_type": "execute_result"
    }
   ],
   "source": [
    "trainset['complaint_status'].unique()"
   ]
  },
  {
   "cell_type": "code",
   "execution_count": 65,
   "metadata": {},
   "outputs": [
    {
     "data": {
      "text/plain": [
       "False"
      ]
     },
     "execution_count": 65,
     "metadata": {},
     "output_type": "execute_result"
    }
   ],
   "source": [
    "trainset['feedback'].isnull().any()"
   ]
  },
  {
   "cell_type": "code",
   "execution_count": 66,
   "metadata": {},
   "outputs": [
    {
     "data": {
      "text/plain": [
       "array(['Products always in Stock', 'Quality Customer Care',\n",
       "       'Poor Website', 'No reason specified', 'Poor Product Quality',\n",
       "       'Poor Customer Service', 'Too many ads', 'User Friendly Website',\n",
       "       'Reasonable Price'], dtype=object)"
      ]
     },
     "execution_count": 66,
     "metadata": {},
     "output_type": "execute_result"
    }
   ],
   "source": [
    "trainset['feedback'].unique()"
   ]
  },
  {
   "cell_type": "code",
   "execution_count": 67,
   "metadata": {},
   "outputs": [
    {
     "data": {
      "text/plain": [
       "0        1\n",
       "1        1\n",
       "2        1\n",
       "3        0\n",
       "4        1\n",
       "        ..\n",
       "36987    1\n",
       "36988    1\n",
       "36989    1\n",
       "36990    0\n",
       "36991    0\n",
       "Name: gender, Length: 36992, dtype: int64"
      ]
     },
     "execution_count": 67,
     "metadata": {},
     "output_type": "execute_result"
    }
   ],
   "source": [
    "trainset['gender'] = trainset['gender'].map({'M': 0, 'F': 1})\n",
    "trainset['gender']"
   ]
  },
  {
   "cell_type": "code",
   "execution_count": 68,
   "metadata": {},
   "outputs": [
    {
     "data": {
      "text/plain": [
       "array(['Village', 'City', 'Town'], dtype=object)"
      ]
     },
     "execution_count": 68,
     "metadata": {},
     "output_type": "execute_result"
    }
   ],
   "source": [
    "trainset['region_category'].unique()"
   ]
  },
  {
   "cell_type": "code",
   "execution_count": 69,
   "metadata": {},
   "outputs": [
    {
     "data": {
      "text/plain": [
       "0        0\n",
       "1        1\n",
       "2        2\n",
       "3        1\n",
       "4        1\n",
       "        ..\n",
       "36987    2\n",
       "36988    2\n",
       "36989    2\n",
       "36990    0\n",
       "36991    2\n",
       "Name: region_category, Length: 36992, dtype: int64"
      ]
     },
     "execution_count": 69,
     "metadata": {},
     "output_type": "execute_result"
    }
   ],
   "source": [
    "trainset['region_category'] = trainset['region_category'].map({'Village': 0, 'City': 1, 'Town':2})\n",
    "trainset['region_category']"
   ]
  },
  {
   "cell_type": "code",
   "execution_count": 70,
   "metadata": {},
   "outputs": [
    {
     "data": {
      "text/plain": [
       "array(['Platinum Membership', 'Premium Membership', 'No Membership',\n",
       "       'Gold Membership', 'Silver Membership', 'Basic Membership'],\n",
       "      dtype=object)"
      ]
     },
     "execution_count": 70,
     "metadata": {},
     "output_type": "execute_result"
    }
   ],
   "source": [
    "trainset['membership_category'].unique()"
   ]
  },
  {
   "cell_type": "code",
   "execution_count": 71,
   "metadata": {},
   "outputs": [
    {
     "data": {
      "text/plain": [
       "0        0\n",
       "1        1\n",
       "2        2\n",
       "3        2\n",
       "4        2\n",
       "        ..\n",
       "36987    5\n",
       "36988    5\n",
       "36989    5\n",
       "36990    0\n",
       "36991    4\n",
       "Name: membership_category, Length: 36992, dtype: int64"
      ]
     },
     "execution_count": 71,
     "metadata": {},
     "output_type": "execute_result"
    }
   ],
   "source": [
    "trainset['membership_category'] = trainset['membership_category'].map({'Platinum Membership': 0, 'Premium Membership': 1, 'No Membership':2, 'Gold Membership':3 ,'Silver Membership':4, 'Basic Membership':5})\n",
    "trainset['membership_category']"
   ]
  },
  {
   "cell_type": "code",
   "execution_count": 72,
   "metadata": {},
   "outputs": [
    {
     "data": {
      "text/plain": [
       "0        0\n",
       "1        0\n",
       "2        1\n",
       "3        1\n",
       "4        0\n",
       "        ..\n",
       "36987    0\n",
       "36988    0\n",
       "36989    1\n",
       "36990    0\n",
       "36991    0\n",
       "Name: joined_through_referral, Length: 36992, dtype: int64"
      ]
     },
     "execution_count": 72,
     "metadata": {},
     "output_type": "execute_result"
    }
   ],
   "source": [
    "trainset['joined_through_referral'] = trainset['joined_through_referral'].map({'No': 0, 'Yes': 1})\n",
    "trainset['joined_through_referral']"
   ]
  },
  {
   "cell_type": "code",
   "execution_count": 73,
   "metadata": {},
   "outputs": [
    {
     "data": {
      "text/plain": [
       "array(['Gift Vouchers/Coupons', 'Credit/Debit Card Offers',\n",
       "       'Without Offers'], dtype=object)"
      ]
     },
     "execution_count": 73,
     "metadata": {},
     "output_type": "execute_result"
    }
   ],
   "source": [
    "trainset['preferred_offer_types'].unique()"
   ]
  },
  {
   "cell_type": "code",
   "execution_count": 74,
   "metadata": {},
   "outputs": [
    {
     "data": {
      "text/plain": [
       "0        0\n",
       "1        0\n",
       "2        0\n",
       "3        0\n",
       "4        1\n",
       "        ..\n",
       "36987    1\n",
       "36988    2\n",
       "36989    0\n",
       "36990    0\n",
       "36991    0\n",
       "Name: preferred_offer_types, Length: 36992, dtype: int64"
      ]
     },
     "execution_count": 74,
     "metadata": {},
     "output_type": "execute_result"
    }
   ],
   "source": [
    "trainset['preferred_offer_types'] = trainset['preferred_offer_types'].map({'Gift Vouchers/Coupons': 0, 'Credit/Debit Card Offers': 1, 'Without Offers':2})\n",
    "trainset['preferred_offer_types']"
   ]
  },
  {
   "cell_type": "code",
   "execution_count": 75,
   "metadata": {},
   "outputs": [
    {
     "data": {
      "text/plain": [
       "array(['Desktop', 'Smartphone', 'Both'], dtype=object)"
      ]
     },
     "execution_count": 75,
     "metadata": {},
     "output_type": "execute_result"
    }
   ],
   "source": [
    "trainset['medium_of_operation'].unique()"
   ]
  },
  {
   "cell_type": "code",
   "execution_count": 76,
   "metadata": {},
   "outputs": [
    {
     "data": {
      "text/plain": [
       "0        0\n",
       "1        0\n",
       "2        0\n",
       "3        0\n",
       "4        1\n",
       "        ..\n",
       "36987    0\n",
       "36988    1\n",
       "36989    0\n",
       "36990    1\n",
       "36991    0\n",
       "Name: medium_of_operation, Length: 36992, dtype: int64"
      ]
     },
     "execution_count": 76,
     "metadata": {},
     "output_type": "execute_result"
    }
   ],
   "source": [
    "trainset['medium_of_operation'] = trainset['medium_of_operation'].map({'Desktop': 0, 'Smartphone': 1, 'Both':2})\n",
    "trainset['medium_of_operation']"
   ]
  },
  {
   "cell_type": "code",
   "execution_count": 77,
   "metadata": {},
   "outputs": [
    {
     "data": {
      "text/plain": [
       "array(['Wi-Fi', 'Mobile_Data', 'Fiber_Optic'], dtype=object)"
      ]
     },
     "execution_count": 77,
     "metadata": {},
     "output_type": "execute_result"
    }
   ],
   "source": [
    "trainset['internet_option'].unique()"
   ]
  },
  {
   "cell_type": "code",
   "execution_count": 78,
   "metadata": {},
   "outputs": [
    {
     "data": {
      "text/plain": [
       "0        0\n",
       "1        1\n",
       "2        0\n",
       "3        1\n",
       "4        1\n",
       "        ..\n",
       "36987    0\n",
       "36988    0\n",
       "36989    0\n",
       "36990    1\n",
       "36991    1\n",
       "Name: internet_option, Length: 36992, dtype: int64"
      ]
     },
     "execution_count": 78,
     "metadata": {},
     "output_type": "execute_result"
    }
   ],
   "source": [
    "trainset['internet_option'] = trainset['internet_option'].map({'Wi-Fi': 0, 'Mobile_Data': 1, 'Fiber_Optic':2})\n",
    "trainset['internet_option']"
   ]
  },
  {
   "cell_type": "code",
   "execution_count": 79,
   "metadata": {},
   "outputs": [
    {
     "data": {
      "text/plain": [
       "0        1\n",
       "1        1\n",
       "2        0\n",
       "3        0\n",
       "4        0\n",
       "        ..\n",
       "36987    0\n",
       "36988    1\n",
       "36989    0\n",
       "36990    1\n",
       "36991    1\n",
       "Name: used_special_discount, Length: 36992, dtype: int64"
      ]
     },
     "execution_count": 79,
     "metadata": {},
     "output_type": "execute_result"
    }
   ],
   "source": [
    "trainset['used_special_discount'] = trainset['used_special_discount'].map({'No': 0, 'Yes': 1})\n",
    "trainset['used_special_discount']"
   ]
  },
  {
   "cell_type": "code",
   "execution_count": 80,
   "metadata": {},
   "outputs": [
    {
     "data": {
      "text/plain": [
       "0        1\n",
       "1        0\n",
       "2        1\n",
       "3        1\n",
       "4        1\n",
       "        ..\n",
       "36987    1\n",
       "36988    0\n",
       "36989    1\n",
       "36990    1\n",
       "36991    0\n",
       "Name: offer_application_preference, Length: 36992, dtype: int64"
      ]
     },
     "execution_count": 80,
     "metadata": {},
     "output_type": "execute_result"
    }
   ],
   "source": [
    "\n",
    "trainset['offer_application_preference'] = trainset['offer_application_preference'].map({'No': 0, 'Yes': 1})\n",
    "trainset['offer_application_preference']"
   ]
  },
  {
   "cell_type": "code",
   "execution_count": 81,
   "metadata": {},
   "outputs": [
    {
     "data": {
      "text/plain": [
       "0        0\n",
       "1        1\n",
       "2        1\n",
       "3        1\n",
       "4        1\n",
       "        ..\n",
       "36987    1\n",
       "36988    0\n",
       "36989    1\n",
       "36990    0\n",
       "36991    0\n",
       "Name: past_complaint, Length: 36992, dtype: int64"
      ]
     },
     "execution_count": 81,
     "metadata": {},
     "output_type": "execute_result"
    }
   ],
   "source": [
    "\n",
    "trainset['past_complaint'] = trainset['past_complaint'].map({'No': 0, 'Yes': 1})\n",
    "trainset['past_complaint']"
   ]
  },
  {
   "cell_type": "code",
   "execution_count": 82,
   "metadata": {},
   "outputs": [
    {
     "data": {
      "text/plain": [
       "array(['Not Applicable', 'Solved', 'Solved in Follow-up', 'Unsolved'],\n",
       "      dtype=object)"
      ]
     },
     "execution_count": 82,
     "metadata": {},
     "output_type": "execute_result"
    }
   ],
   "source": [
    "trainset['complaint_status'].unique()"
   ]
  },
  {
   "cell_type": "code",
   "execution_count": 83,
   "metadata": {},
   "outputs": [
    {
     "data": {
      "text/plain": [
       "0        0\n",
       "1        1\n",
       "2        2\n",
       "3        3\n",
       "4        1\n",
       "        ..\n",
       "36987    0\n",
       "36988    0\n",
       "36989    3\n",
       "36990    0\n",
       "36991    0\n",
       "Name: complaint_status, Length: 36992, dtype: int64"
      ]
     },
     "execution_count": 83,
     "metadata": {},
     "output_type": "execute_result"
    }
   ],
   "source": [
    "trainset['complaint_status'] = trainset['complaint_status'].map({'Not Applicable': 0, 'Solved': 1,'Solved in Follow-up':2, 'Unsolved':3})\n",
    "trainset['complaint_status']"
   ]
  },
  {
   "cell_type": "code",
   "execution_count": 84,
   "metadata": {},
   "outputs": [
    {
     "data": {
      "text/plain": [
       "array(['Products always in Stock', 'Quality Customer Care',\n",
       "       'Poor Website', 'No reason specified', 'Poor Product Quality',\n",
       "       'Poor Customer Service', 'Too many ads', 'User Friendly Website',\n",
       "       'Reasonable Price'], dtype=object)"
      ]
     },
     "execution_count": 84,
     "metadata": {},
     "output_type": "execute_result"
    }
   ],
   "source": [
    "trainset['feedback'].unique()"
   ]
  },
  {
   "cell_type": "code",
   "execution_count": 85,
   "metadata": {},
   "outputs": [
    {
     "data": {
      "text/plain": [
       "0        0\n",
       "1        1\n",
       "2        2\n",
       "3        2\n",
       "4        2\n",
       "        ..\n",
       "36987    3\n",
       "36988    5\n",
       "36989    2\n",
       "36990    3\n",
       "36991    1\n",
       "Name: feedback, Length: 36992, dtype: int64"
      ]
     },
     "execution_count": 85,
     "metadata": {},
     "output_type": "execute_result"
    }
   ],
   "source": [
    "trainset['feedback'] = trainset['feedback'].map({'Products always in Stock': 0, 'Quality Customer Care': 1,'Poor Website':2, 'No reason specified':3, 'Poor Product Quality':4, 'Poor Customer Service':5, 'Too many ads':6, 'User Friendly Website':7,'Reasonable Price':8   })\n",
    "trainset['feedback']"
   ]
  },
  {
   "cell_type": "code",
   "execution_count": 86,
   "metadata": {},
   "outputs": [
    {
     "data": {
      "text/html": [
       "<div>\n",
       "<style scoped>\n",
       "    .dataframe tbody tr th:only-of-type {\n",
       "        vertical-align: middle;\n",
       "    }\n",
       "\n",
       "    .dataframe tbody tr th {\n",
       "        vertical-align: top;\n",
       "    }\n",
       "\n",
       "    .dataframe thead th {\n",
       "        text-align: right;\n",
       "    }\n",
       "</style>\n",
       "<table border=\"1\" class=\"dataframe\">\n",
       "  <thead>\n",
       "    <tr style=\"text-align: right;\">\n",
       "      <th></th>\n",
       "      <th>age</th>\n",
       "      <th>gender</th>\n",
       "      <th>region_category</th>\n",
       "      <th>membership_category</th>\n",
       "      <th>joined_through_referral</th>\n",
       "      <th>preferred_offer_types</th>\n",
       "      <th>medium_of_operation</th>\n",
       "      <th>internet_option</th>\n",
       "      <th>days_since_last_login</th>\n",
       "      <th>avg_time_spent</th>\n",
       "      <th>avg_transaction_value</th>\n",
       "      <th>avg_frequency_login_days</th>\n",
       "      <th>points_in_wallet</th>\n",
       "      <th>used_special_discount</th>\n",
       "      <th>offer_application_preference</th>\n",
       "      <th>past_complaint</th>\n",
       "      <th>complaint_status</th>\n",
       "      <th>feedback</th>\n",
       "      <th>churn_risk_score</th>\n",
       "    </tr>\n",
       "  </thead>\n",
       "  <tbody>\n",
       "    <tr>\n",
       "      <th>age</th>\n",
       "      <td>1.000000</td>\n",
       "      <td>-0.000469</td>\n",
       "      <td>-0.000093</td>\n",
       "      <td>0.004153</td>\n",
       "      <td>0.000331</td>\n",
       "      <td>-0.006194</td>\n",
       "      <td>-0.014420</td>\n",
       "      <td>-0.011150</td>\n",
       "      <td>-0.002084</td>\n",
       "      <td>0.000003</td>\n",
       "      <td>-0.000473</td>\n",
       "      <td>-0.001060</td>\n",
       "      <td>0.001769</td>\n",
       "      <td>-0.005375</td>\n",
       "      <td>0.003090</td>\n",
       "      <td>0.001663</td>\n",
       "      <td>0.002627</td>\n",
       "      <td>-0.010451</td>\n",
       "      <td>0.002360</td>\n",
       "    </tr>\n",
       "    <tr>\n",
       "      <th>gender</th>\n",
       "      <td>-0.000469</td>\n",
       "      <td>1.000000</td>\n",
       "      <td>0.004553</td>\n",
       "      <td>0.005954</td>\n",
       "      <td>0.004045</td>\n",
       "      <td>0.003890</td>\n",
       "      <td>0.005742</td>\n",
       "      <td>-0.003659</td>\n",
       "      <td>0.003779</td>\n",
       "      <td>0.008124</td>\n",
       "      <td>-0.003887</td>\n",
       "      <td>0.002303</td>\n",
       "      <td>0.009838</td>\n",
       "      <td>0.000202</td>\n",
       "      <td>0.000186</td>\n",
       "      <td>0.008397</td>\n",
       "      <td>0.003164</td>\n",
       "      <td>-0.003540</td>\n",
       "      <td>-0.000175</td>\n",
       "    </tr>\n",
       "    <tr>\n",
       "      <th>region_category</th>\n",
       "      <td>-0.000093</td>\n",
       "      <td>0.004553</td>\n",
       "      <td>1.000000</td>\n",
       "      <td>0.008652</td>\n",
       "      <td>0.000733</td>\n",
       "      <td>0.007823</td>\n",
       "      <td>-0.002201</td>\n",
       "      <td>0.000993</td>\n",
       "      <td>0.010927</td>\n",
       "      <td>-0.006049</td>\n",
       "      <td>-0.018370</td>\n",
       "      <td>0.008111</td>\n",
       "      <td>-0.012955</td>\n",
       "      <td>-0.002466</td>\n",
       "      <td>0.001913</td>\n",
       "      <td>0.004773</td>\n",
       "      <td>0.001831</td>\n",
       "      <td>0.001144</td>\n",
       "      <td>0.024773</td>\n",
       "    </tr>\n",
       "    <tr>\n",
       "      <th>membership_category</th>\n",
       "      <td>0.004153</td>\n",
       "      <td>0.005954</td>\n",
       "      <td>0.008652</td>\n",
       "      <td>1.000000</td>\n",
       "      <td>0.012798</td>\n",
       "      <td>0.020357</td>\n",
       "      <td>-0.004634</td>\n",
       "      <td>0.000562</td>\n",
       "      <td>0.011038</td>\n",
       "      <td>-0.011287</td>\n",
       "      <td>-0.143902</td>\n",
       "      <td>0.092695</td>\n",
       "      <td>-0.154628</td>\n",
       "      <td>-0.006715</td>\n",
       "      <td>-0.010572</td>\n",
       "      <td>0.002193</td>\n",
       "      <td>-0.002185</td>\n",
       "      <td>-0.000378</td>\n",
       "      <td>0.367525</td>\n",
       "    </tr>\n",
       "    <tr>\n",
       "      <th>joined_through_referral</th>\n",
       "      <td>0.000331</td>\n",
       "      <td>0.004045</td>\n",
       "      <td>0.000733</td>\n",
       "      <td>0.012798</td>\n",
       "      <td>1.000000</td>\n",
       "      <td>0.004831</td>\n",
       "      <td>0.047888</td>\n",
       "      <td>0.005574</td>\n",
       "      <td>-0.036009</td>\n",
       "      <td>0.144656</td>\n",
       "      <td>-0.027336</td>\n",
       "      <td>0.020262</td>\n",
       "      <td>-0.007987</td>\n",
       "      <td>0.020367</td>\n",
       "      <td>0.014809</td>\n",
       "      <td>0.000058</td>\n",
       "      <td>0.001972</td>\n",
       "      <td>-0.002766</td>\n",
       "      <td>0.032034</td>\n",
       "    </tr>\n",
       "    <tr>\n",
       "      <th>preferred_offer_types</th>\n",
       "      <td>-0.006194</td>\n",
       "      <td>0.003890</td>\n",
       "      <td>0.007823</td>\n",
       "      <td>0.020357</td>\n",
       "      <td>0.004831</td>\n",
       "      <td>1.000000</td>\n",
       "      <td>-0.001032</td>\n",
       "      <td>-0.007523</td>\n",
       "      <td>-0.001611</td>\n",
       "      <td>0.004433</td>\n",
       "      <td>-0.040489</td>\n",
       "      <td>0.030348</td>\n",
       "      <td>-0.012066</td>\n",
       "      <td>0.003640</td>\n",
       "      <td>-0.003644</td>\n",
       "      <td>-0.004538</td>\n",
       "      <td>-0.006692</td>\n",
       "      <td>-0.002691</td>\n",
       "      <td>0.054921</td>\n",
       "    </tr>\n",
       "    <tr>\n",
       "      <th>medium_of_operation</th>\n",
       "      <td>-0.014420</td>\n",
       "      <td>0.005742</td>\n",
       "      <td>-0.002201</td>\n",
       "      <td>-0.004634</td>\n",
       "      <td>0.047888</td>\n",
       "      <td>-0.001032</td>\n",
       "      <td>1.000000</td>\n",
       "      <td>0.004340</td>\n",
       "      <td>-0.040824</td>\n",
       "      <td>0.182637</td>\n",
       "      <td>0.004895</td>\n",
       "      <td>0.007784</td>\n",
       "      <td>0.000954</td>\n",
       "      <td>0.040632</td>\n",
       "      <td>0.031737</td>\n",
       "      <td>0.003516</td>\n",
       "      <td>-0.004303</td>\n",
       "      <td>0.001245</td>\n",
       "      <td>0.001739</td>\n",
       "    </tr>\n",
       "    <tr>\n",
       "      <th>internet_option</th>\n",
       "      <td>-0.011150</td>\n",
       "      <td>-0.003659</td>\n",
       "      <td>0.000993</td>\n",
       "      <td>0.000562</td>\n",
       "      <td>0.005574</td>\n",
       "      <td>-0.007523</td>\n",
       "      <td>0.004340</td>\n",
       "      <td>1.000000</td>\n",
       "      <td>-0.003646</td>\n",
       "      <td>0.000197</td>\n",
       "      <td>0.005848</td>\n",
       "      <td>-0.001820</td>\n",
       "      <td>-0.003791</td>\n",
       "      <td>0.001021</td>\n",
       "      <td>-0.005341</td>\n",
       "      <td>0.000529</td>\n",
       "      <td>0.009099</td>\n",
       "      <td>-0.009404</td>\n",
       "      <td>0.003149</td>\n",
       "    </tr>\n",
       "    <tr>\n",
       "      <th>days_since_last_login</th>\n",
       "      <td>-0.002084</td>\n",
       "      <td>0.003779</td>\n",
       "      <td>0.010927</td>\n",
       "      <td>0.011038</td>\n",
       "      <td>-0.036009</td>\n",
       "      <td>-0.001611</td>\n",
       "      <td>-0.040824</td>\n",
       "      <td>-0.003646</td>\n",
       "      <td>1.000000</td>\n",
       "      <td>-0.108331</td>\n",
       "      <td>-0.016422</td>\n",
       "      <td>0.015155</td>\n",
       "      <td>-0.000688</td>\n",
       "      <td>-0.021190</td>\n",
       "      <td>-0.016362</td>\n",
       "      <td>0.007140</td>\n",
       "      <td>-0.002131</td>\n",
       "      <td>0.003887</td>\n",
       "      <td>0.020090</td>\n",
       "    </tr>\n",
       "    <tr>\n",
       "      <th>avg_time_spent</th>\n",
       "      <td>0.000003</td>\n",
       "      <td>0.008124</td>\n",
       "      <td>-0.006049</td>\n",
       "      <td>-0.011287</td>\n",
       "      <td>0.144656</td>\n",
       "      <td>0.004433</td>\n",
       "      <td>0.182637</td>\n",
       "      <td>0.000197</td>\n",
       "      <td>-0.108331</td>\n",
       "      <td>1.000000</td>\n",
       "      <td>0.022738</td>\n",
       "      <td>-0.000722</td>\n",
       "      <td>-0.001228</td>\n",
       "      <td>0.086880</td>\n",
       "      <td>0.079566</td>\n",
       "      <td>0.002187</td>\n",
       "      <td>0.004824</td>\n",
       "      <td>-0.004653</td>\n",
       "      <td>-0.024277</td>\n",
       "    </tr>\n",
       "    <tr>\n",
       "      <th>avg_transaction_value</th>\n",
       "      <td>-0.000473</td>\n",
       "      <td>-0.003887</td>\n",
       "      <td>-0.018370</td>\n",
       "      <td>-0.143902</td>\n",
       "      <td>-0.027336</td>\n",
       "      <td>-0.040489</td>\n",
       "      <td>0.004895</td>\n",
       "      <td>0.005848</td>\n",
       "      <td>-0.016422</td>\n",
       "      <td>0.022738</td>\n",
       "      <td>1.000000</td>\n",
       "      <td>-0.133753</td>\n",
       "      <td>0.087869</td>\n",
       "      <td>0.006703</td>\n",
       "      <td>0.023522</td>\n",
       "      <td>-0.003486</td>\n",
       "      <td>-0.003082</td>\n",
       "      <td>0.014536</td>\n",
       "      <td>-0.288636</td>\n",
       "    </tr>\n",
       "    <tr>\n",
       "      <th>avg_frequency_login_days</th>\n",
       "      <td>-0.001060</td>\n",
       "      <td>0.002303</td>\n",
       "      <td>0.008111</td>\n",
       "      <td>0.092695</td>\n",
       "      <td>0.020262</td>\n",
       "      <td>0.030348</td>\n",
       "      <td>0.007784</td>\n",
       "      <td>-0.001820</td>\n",
       "      <td>0.015155</td>\n",
       "      <td>-0.000722</td>\n",
       "      <td>-0.133753</td>\n",
       "      <td>1.000000</td>\n",
       "      <td>-0.049619</td>\n",
       "      <td>-0.003340</td>\n",
       "      <td>-0.007697</td>\n",
       "      <td>0.010543</td>\n",
       "      <td>0.014314</td>\n",
       "      <td>-0.004934</td>\n",
       "      <td>0.169198</td>\n",
       "    </tr>\n",
       "    <tr>\n",
       "      <th>points_in_wallet</th>\n",
       "      <td>0.001769</td>\n",
       "      <td>0.009838</td>\n",
       "      <td>-0.012955</td>\n",
       "      <td>-0.154628</td>\n",
       "      <td>-0.007987</td>\n",
       "      <td>-0.012066</td>\n",
       "      <td>0.000954</td>\n",
       "      <td>-0.003791</td>\n",
       "      <td>-0.000688</td>\n",
       "      <td>-0.001228</td>\n",
       "      <td>0.087869</td>\n",
       "      <td>-0.049619</td>\n",
       "      <td>1.000000</td>\n",
       "      <td>0.004616</td>\n",
       "      <td>0.004749</td>\n",
       "      <td>-0.003128</td>\n",
       "      <td>-0.003234</td>\n",
       "      <td>0.006092</td>\n",
       "      <td>-0.257120</td>\n",
       "    </tr>\n",
       "    <tr>\n",
       "      <th>used_special_discount</th>\n",
       "      <td>-0.005375</td>\n",
       "      <td>0.000202</td>\n",
       "      <td>-0.002466</td>\n",
       "      <td>-0.006715</td>\n",
       "      <td>0.020367</td>\n",
       "      <td>0.003640</td>\n",
       "      <td>0.040632</td>\n",
       "      <td>0.001021</td>\n",
       "      <td>-0.021190</td>\n",
       "      <td>0.086880</td>\n",
       "      <td>0.006703</td>\n",
       "      <td>-0.003340</td>\n",
       "      <td>0.004616</td>\n",
       "      <td>1.000000</td>\n",
       "      <td>-0.814132</td>\n",
       "      <td>0.007421</td>\n",
       "      <td>0.003685</td>\n",
       "      <td>0.000430</td>\n",
       "      <td>-0.006107</td>\n",
       "    </tr>\n",
       "    <tr>\n",
       "      <th>offer_application_preference</th>\n",
       "      <td>0.003090</td>\n",
       "      <td>0.000186</td>\n",
       "      <td>0.001913</td>\n",
       "      <td>-0.010572</td>\n",
       "      <td>0.014809</td>\n",
       "      <td>-0.003644</td>\n",
       "      <td>0.031737</td>\n",
       "      <td>-0.005341</td>\n",
       "      <td>-0.016362</td>\n",
       "      <td>0.079566</td>\n",
       "      <td>0.023522</td>\n",
       "      <td>-0.007697</td>\n",
       "      <td>0.004749</td>\n",
       "      <td>-0.814132</td>\n",
       "      <td>1.000000</td>\n",
       "      <td>-0.007223</td>\n",
       "      <td>-0.002316</td>\n",
       "      <td>-0.006687</td>\n",
       "      <td>-0.031311</td>\n",
       "    </tr>\n",
       "    <tr>\n",
       "      <th>past_complaint</th>\n",
       "      <td>0.001663</td>\n",
       "      <td>0.008397</td>\n",
       "      <td>0.004773</td>\n",
       "      <td>0.002193</td>\n",
       "      <td>0.000058</td>\n",
       "      <td>-0.004538</td>\n",
       "      <td>0.003516</td>\n",
       "      <td>0.000529</td>\n",
       "      <td>0.007140</td>\n",
       "      <td>0.002187</td>\n",
       "      <td>-0.003486</td>\n",
       "      <td>0.010543</td>\n",
       "      <td>-0.003128</td>\n",
       "      <td>0.007421</td>\n",
       "      <td>-0.007223</td>\n",
       "      <td>1.000000</td>\n",
       "      <td>0.690872</td>\n",
       "      <td>-0.007259</td>\n",
       "      <td>0.011664</td>\n",
       "    </tr>\n",
       "    <tr>\n",
       "      <th>complaint_status</th>\n",
       "      <td>0.002627</td>\n",
       "      <td>0.003164</td>\n",
       "      <td>0.001831</td>\n",
       "      <td>-0.002185</td>\n",
       "      <td>0.001972</td>\n",
       "      <td>-0.006692</td>\n",
       "      <td>-0.004303</td>\n",
       "      <td>0.009099</td>\n",
       "      <td>-0.002131</td>\n",
       "      <td>0.004824</td>\n",
       "      <td>-0.003082</td>\n",
       "      <td>0.014314</td>\n",
       "      <td>-0.003234</td>\n",
       "      <td>0.003685</td>\n",
       "      <td>-0.002316</td>\n",
       "      <td>0.690872</td>\n",
       "      <td>1.000000</td>\n",
       "      <td>-0.008339</td>\n",
       "      <td>0.006483</td>\n",
       "    </tr>\n",
       "    <tr>\n",
       "      <th>feedback</th>\n",
       "      <td>-0.010451</td>\n",
       "      <td>-0.003540</td>\n",
       "      <td>0.001144</td>\n",
       "      <td>-0.000378</td>\n",
       "      <td>-0.002766</td>\n",
       "      <td>-0.002691</td>\n",
       "      <td>0.001245</td>\n",
       "      <td>-0.009404</td>\n",
       "      <td>0.003887</td>\n",
       "      <td>-0.004653</td>\n",
       "      <td>0.014536</td>\n",
       "      <td>-0.004934</td>\n",
       "      <td>0.006092</td>\n",
       "      <td>0.000430</td>\n",
       "      <td>-0.006687</td>\n",
       "      <td>-0.007259</td>\n",
       "      <td>-0.008339</td>\n",
       "      <td>1.000000</td>\n",
       "      <td>-0.001549</td>\n",
       "    </tr>\n",
       "    <tr>\n",
       "      <th>churn_risk_score</th>\n",
       "      <td>0.002360</td>\n",
       "      <td>-0.000175</td>\n",
       "      <td>0.024773</td>\n",
       "      <td>0.367525</td>\n",
       "      <td>0.032034</td>\n",
       "      <td>0.054921</td>\n",
       "      <td>0.001739</td>\n",
       "      <td>0.003149</td>\n",
       "      <td>0.020090</td>\n",
       "      <td>-0.024277</td>\n",
       "      <td>-0.288636</td>\n",
       "      <td>0.169198</td>\n",
       "      <td>-0.257120</td>\n",
       "      <td>-0.006107</td>\n",
       "      <td>-0.031311</td>\n",
       "      <td>0.011664</td>\n",
       "      <td>0.006483</td>\n",
       "      <td>-0.001549</td>\n",
       "      <td>1.000000</td>\n",
       "    </tr>\n",
       "  </tbody>\n",
       "</table>\n",
       "</div>"
      ],
      "text/plain": [
       "                                   age    gender  region_category  \\\n",
       "age                           1.000000 -0.000469        -0.000093   \n",
       "gender                       -0.000469  1.000000         0.004553   \n",
       "region_category              -0.000093  0.004553         1.000000   \n",
       "membership_category           0.004153  0.005954         0.008652   \n",
       "joined_through_referral       0.000331  0.004045         0.000733   \n",
       "preferred_offer_types        -0.006194  0.003890         0.007823   \n",
       "medium_of_operation          -0.014420  0.005742        -0.002201   \n",
       "internet_option              -0.011150 -0.003659         0.000993   \n",
       "days_since_last_login        -0.002084  0.003779         0.010927   \n",
       "avg_time_spent                0.000003  0.008124        -0.006049   \n",
       "avg_transaction_value        -0.000473 -0.003887        -0.018370   \n",
       "avg_frequency_login_days     -0.001060  0.002303         0.008111   \n",
       "points_in_wallet              0.001769  0.009838        -0.012955   \n",
       "used_special_discount        -0.005375  0.000202        -0.002466   \n",
       "offer_application_preference  0.003090  0.000186         0.001913   \n",
       "past_complaint                0.001663  0.008397         0.004773   \n",
       "complaint_status              0.002627  0.003164         0.001831   \n",
       "feedback                     -0.010451 -0.003540         0.001144   \n",
       "churn_risk_score              0.002360 -0.000175         0.024773   \n",
       "\n",
       "                              membership_category  joined_through_referral  \\\n",
       "age                                      0.004153                 0.000331   \n",
       "gender                                   0.005954                 0.004045   \n",
       "region_category                          0.008652                 0.000733   \n",
       "membership_category                      1.000000                 0.012798   \n",
       "joined_through_referral                  0.012798                 1.000000   \n",
       "preferred_offer_types                    0.020357                 0.004831   \n",
       "medium_of_operation                     -0.004634                 0.047888   \n",
       "internet_option                          0.000562                 0.005574   \n",
       "days_since_last_login                    0.011038                -0.036009   \n",
       "avg_time_spent                          -0.011287                 0.144656   \n",
       "avg_transaction_value                   -0.143902                -0.027336   \n",
       "avg_frequency_login_days                 0.092695                 0.020262   \n",
       "points_in_wallet                        -0.154628                -0.007987   \n",
       "used_special_discount                   -0.006715                 0.020367   \n",
       "offer_application_preference            -0.010572                 0.014809   \n",
       "past_complaint                           0.002193                 0.000058   \n",
       "complaint_status                        -0.002185                 0.001972   \n",
       "feedback                                -0.000378                -0.002766   \n",
       "churn_risk_score                         0.367525                 0.032034   \n",
       "\n",
       "                              preferred_offer_types  medium_of_operation  \\\n",
       "age                                       -0.006194            -0.014420   \n",
       "gender                                     0.003890             0.005742   \n",
       "region_category                            0.007823            -0.002201   \n",
       "membership_category                        0.020357            -0.004634   \n",
       "joined_through_referral                    0.004831             0.047888   \n",
       "preferred_offer_types                      1.000000            -0.001032   \n",
       "medium_of_operation                       -0.001032             1.000000   \n",
       "internet_option                           -0.007523             0.004340   \n",
       "days_since_last_login                     -0.001611            -0.040824   \n",
       "avg_time_spent                             0.004433             0.182637   \n",
       "avg_transaction_value                     -0.040489             0.004895   \n",
       "avg_frequency_login_days                   0.030348             0.007784   \n",
       "points_in_wallet                          -0.012066             0.000954   \n",
       "used_special_discount                      0.003640             0.040632   \n",
       "offer_application_preference              -0.003644             0.031737   \n",
       "past_complaint                            -0.004538             0.003516   \n",
       "complaint_status                          -0.006692            -0.004303   \n",
       "feedback                                  -0.002691             0.001245   \n",
       "churn_risk_score                           0.054921             0.001739   \n",
       "\n",
       "                              internet_option  days_since_last_login  \\\n",
       "age                                 -0.011150              -0.002084   \n",
       "gender                              -0.003659               0.003779   \n",
       "region_category                      0.000993               0.010927   \n",
       "membership_category                  0.000562               0.011038   \n",
       "joined_through_referral              0.005574              -0.036009   \n",
       "preferred_offer_types               -0.007523              -0.001611   \n",
       "medium_of_operation                  0.004340              -0.040824   \n",
       "internet_option                      1.000000              -0.003646   \n",
       "days_since_last_login               -0.003646               1.000000   \n",
       "avg_time_spent                       0.000197              -0.108331   \n",
       "avg_transaction_value                0.005848              -0.016422   \n",
       "avg_frequency_login_days            -0.001820               0.015155   \n",
       "points_in_wallet                    -0.003791              -0.000688   \n",
       "used_special_discount                0.001021              -0.021190   \n",
       "offer_application_preference        -0.005341              -0.016362   \n",
       "past_complaint                       0.000529               0.007140   \n",
       "complaint_status                     0.009099              -0.002131   \n",
       "feedback                            -0.009404               0.003887   \n",
       "churn_risk_score                     0.003149               0.020090   \n",
       "\n",
       "                              avg_time_spent  avg_transaction_value  \\\n",
       "age                                 0.000003              -0.000473   \n",
       "gender                              0.008124              -0.003887   \n",
       "region_category                    -0.006049              -0.018370   \n",
       "membership_category                -0.011287              -0.143902   \n",
       "joined_through_referral             0.144656              -0.027336   \n",
       "preferred_offer_types               0.004433              -0.040489   \n",
       "medium_of_operation                 0.182637               0.004895   \n",
       "internet_option                     0.000197               0.005848   \n",
       "days_since_last_login              -0.108331              -0.016422   \n",
       "avg_time_spent                      1.000000               0.022738   \n",
       "avg_transaction_value               0.022738               1.000000   \n",
       "avg_frequency_login_days           -0.000722              -0.133753   \n",
       "points_in_wallet                   -0.001228               0.087869   \n",
       "used_special_discount               0.086880               0.006703   \n",
       "offer_application_preference        0.079566               0.023522   \n",
       "past_complaint                      0.002187              -0.003486   \n",
       "complaint_status                    0.004824              -0.003082   \n",
       "feedback                           -0.004653               0.014536   \n",
       "churn_risk_score                   -0.024277              -0.288636   \n",
       "\n",
       "                              avg_frequency_login_days  points_in_wallet  \\\n",
       "age                                          -0.001060          0.001769   \n",
       "gender                                        0.002303          0.009838   \n",
       "region_category                               0.008111         -0.012955   \n",
       "membership_category                           0.092695         -0.154628   \n",
       "joined_through_referral                       0.020262         -0.007987   \n",
       "preferred_offer_types                         0.030348         -0.012066   \n",
       "medium_of_operation                           0.007784          0.000954   \n",
       "internet_option                              -0.001820         -0.003791   \n",
       "days_since_last_login                         0.015155         -0.000688   \n",
       "avg_time_spent                               -0.000722         -0.001228   \n",
       "avg_transaction_value                        -0.133753          0.087869   \n",
       "avg_frequency_login_days                      1.000000         -0.049619   \n",
       "points_in_wallet                             -0.049619          1.000000   \n",
       "used_special_discount                        -0.003340          0.004616   \n",
       "offer_application_preference                 -0.007697          0.004749   \n",
       "past_complaint                                0.010543         -0.003128   \n",
       "complaint_status                              0.014314         -0.003234   \n",
       "feedback                                     -0.004934          0.006092   \n",
       "churn_risk_score                              0.169198         -0.257120   \n",
       "\n",
       "                              used_special_discount  \\\n",
       "age                                       -0.005375   \n",
       "gender                                     0.000202   \n",
       "region_category                           -0.002466   \n",
       "membership_category                       -0.006715   \n",
       "joined_through_referral                    0.020367   \n",
       "preferred_offer_types                      0.003640   \n",
       "medium_of_operation                        0.040632   \n",
       "internet_option                            0.001021   \n",
       "days_since_last_login                     -0.021190   \n",
       "avg_time_spent                             0.086880   \n",
       "avg_transaction_value                      0.006703   \n",
       "avg_frequency_login_days                  -0.003340   \n",
       "points_in_wallet                           0.004616   \n",
       "used_special_discount                      1.000000   \n",
       "offer_application_preference              -0.814132   \n",
       "past_complaint                             0.007421   \n",
       "complaint_status                           0.003685   \n",
       "feedback                                   0.000430   \n",
       "churn_risk_score                          -0.006107   \n",
       "\n",
       "                              offer_application_preference  past_complaint  \\\n",
       "age                                               0.003090        0.001663   \n",
       "gender                                            0.000186        0.008397   \n",
       "region_category                                   0.001913        0.004773   \n",
       "membership_category                              -0.010572        0.002193   \n",
       "joined_through_referral                           0.014809        0.000058   \n",
       "preferred_offer_types                            -0.003644       -0.004538   \n",
       "medium_of_operation                               0.031737        0.003516   \n",
       "internet_option                                  -0.005341        0.000529   \n",
       "days_since_last_login                            -0.016362        0.007140   \n",
       "avg_time_spent                                    0.079566        0.002187   \n",
       "avg_transaction_value                             0.023522       -0.003486   \n",
       "avg_frequency_login_days                         -0.007697        0.010543   \n",
       "points_in_wallet                                  0.004749       -0.003128   \n",
       "used_special_discount                            -0.814132        0.007421   \n",
       "offer_application_preference                      1.000000       -0.007223   \n",
       "past_complaint                                   -0.007223        1.000000   \n",
       "complaint_status                                 -0.002316        0.690872   \n",
       "feedback                                         -0.006687       -0.007259   \n",
       "churn_risk_score                                 -0.031311        0.011664   \n",
       "\n",
       "                              complaint_status  feedback  churn_risk_score  \n",
       "age                                   0.002627 -0.010451          0.002360  \n",
       "gender                                0.003164 -0.003540         -0.000175  \n",
       "region_category                       0.001831  0.001144          0.024773  \n",
       "membership_category                  -0.002185 -0.000378          0.367525  \n",
       "joined_through_referral               0.001972 -0.002766          0.032034  \n",
       "preferred_offer_types                -0.006692 -0.002691          0.054921  \n",
       "medium_of_operation                  -0.004303  0.001245          0.001739  \n",
       "internet_option                       0.009099 -0.009404          0.003149  \n",
       "days_since_last_login                -0.002131  0.003887          0.020090  \n",
       "avg_time_spent                        0.004824 -0.004653         -0.024277  \n",
       "avg_transaction_value                -0.003082  0.014536         -0.288636  \n",
       "avg_frequency_login_days              0.014314 -0.004934          0.169198  \n",
       "points_in_wallet                     -0.003234  0.006092         -0.257120  \n",
       "used_special_discount                 0.003685  0.000430         -0.006107  \n",
       "offer_application_preference         -0.002316 -0.006687         -0.031311  \n",
       "past_complaint                        0.690872 -0.007259          0.011664  \n",
       "complaint_status                      1.000000 -0.008339          0.006483  \n",
       "feedback                             -0.008339  1.000000         -0.001549  \n",
       "churn_risk_score                      0.006483 -0.001549          1.000000  "
      ]
     },
     "execution_count": 86,
     "metadata": {},
     "output_type": "execute_result"
    }
   ],
   "source": [
    "trainset.corr()"
   ]
  },
  {
   "cell_type": "code",
   "execution_count": null,
   "metadata": {},
   "outputs": [],
   "source": []
  }
 ],
 "metadata": {
  "kernelspec": {
   "display_name": "Python 3",
   "language": "python",
   "name": "python3"
  },
  "language_info": {
   "codemirror_mode": {
    "name": "ipython",
    "version": 3
   },
   "file_extension": ".py",
   "mimetype": "text/x-python",
   "name": "python",
   "nbconvert_exporter": "python",
   "pygments_lexer": "ipython3",
   "version": "3.7.6"
  }
 },
 "nbformat": 4,
 "nbformat_minor": 4
}
